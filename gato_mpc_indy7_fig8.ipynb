{
 "cells": [
  {
   "cell_type": "code",
   "execution_count": 1,
   "metadata": {},
   "outputs": [
    {
     "name": "stdout",
     "output_type": "stream",
     "text": [
      "f_ext_batch:\n",
      "[[  0.           0.           0.           0.           0.           0.        ]\n",
      " [ -4.47496145   1.11165255  -6.5050824    0.           0.           0.        ]\n",
      " [  4.21024552  12.94047377   1.34796494   0.           0.           0.        ]\n",
      " [  4.18290822  -6.48456373   4.23673854   0.           0.           0.        ]\n",
      " [ -9.54500328   0.67059556   1.56299522   0.           0.           0.        ]\n",
      " [  6.55876254   3.34257817   2.70495868   0.           0.           0.        ]\n",
      " [  1.58002209   5.93706289  -4.26094758   0.           0.           0.        ]\n",
      " [ -2.71433636  -4.97652885  -0.432081     0.           0.           0.        ]\n",
      " [  1.70277603   5.37114032   3.22329305   0.           0.           0.        ]\n",
      " [  2.34052559  -4.56945387  -8.00707178   0.           0.           0.        ]\n",
      " [  2.724801     8.96264067  -1.67691055   0.           0.           0.        ]\n",
      " [ -2.45854448   3.9298747   -2.8999565    0.           0.           0.        ]\n",
      " [ -1.92620499  -9.70001454  -3.90068445   0.           0.           0.        ]\n",
      " [  3.8312633   -2.2062196    6.14129252   0.           0.           0.        ]\n",
      " [ -3.17694112  -4.98536689   1.11187994   0.           0.           0.        ]\n",
      " [  0.55033621  -6.73551395   5.80693232   0.           0.           0.        ]\n",
      " [ -5.26259147  -1.92917286   4.63714713   0.           0.           0.        ]\n",
      " [  1.17644319   2.19775815   4.45731373   0.           0.           0.        ]\n",
      " [ -2.17638923  -4.79195665   0.66322874   0.           0.           0.        ]\n",
      " [ -1.62376657  -3.00651433  -2.73734175   0.           0.           0.        ]\n",
      " [ -6.31765222  -0.60846312  -3.55440208   0.           0.           0.        ]\n",
      " [  4.79138291  -0.64771618   7.59335702   0.           0.           0.        ]\n",
      " [ -7.1919907   -5.57959335  -1.8284022    0.           0.           0.        ]\n",
      " [  5.97006716  -1.01019625  -1.75299215   0.           0.           0.        ]\n",
      " [  2.2874178    1.94033626  -4.89098102   0.           0.           0.        ]\n",
      " [  3.45901641  -7.78731835 -10.56844797   0.           0.           0.        ]\n",
      " [ -3.62801215  -3.76885713  -4.18219255   0.           0.           0.        ]\n",
      " [ -2.92749298  -0.11109643   1.27982316   0.           0.           0.        ]\n",
      " [  1.32936295   2.18215296   5.05123702   0.           0.           0.        ]\n",
      " [  2.3057571   -0.05269638  -0.86609857   0.           0.           0.        ]\n",
      " [ -1.78839325  -0.60258129  -2.27315841   0.           0.           0.        ]\n",
      " [ -1.54803214  -3.75341854   3.65101339   0.           0.           0.        ]\n",
      " [  7.95072821  -2.17241374  -0.9441613    0.           0.           0.        ]\n",
      " [ -6.93782124   6.58553246   0.4166575    0.           0.           0.        ]\n",
      " [  4.78638723   4.27144901   2.97918905   0.           0.           0.        ]\n",
      " [  1.61902689   4.52482135  -1.64283155   0.           0.           0.        ]\n",
      " [  4.33937944   2.54365808  -0.82918987   0.           0.           0.        ]\n",
      " [ -3.67351079  -2.09833898   6.26014889   0.           0.           0.        ]\n",
      " [ -4.9102783   15.2014904   -2.49167153   0.           0.           0.        ]\n",
      " [ -5.11187672  -5.73554667  -0.43800076   0.           0.           0.        ]\n",
      " [  0.86274013   6.63080798 -13.35621168   0.           0.           0.        ]\n",
      " [  8.99199682  -0.19502972   0.45521839   0.           0.           0.        ]\n",
      " [ -7.22792767   1.18316471  13.3485105    0.           0.           0.        ]\n",
      " [ -0.70962514   1.15386563   3.18930854   0.           0.           0.        ]\n",
      " [  8.63513584   6.89368957  10.41051751   0.           0.           0.        ]\n",
      " [ -5.97088318   1.10837752   5.28769396   0.           0.           0.        ]\n",
      " [  1.69593122  -2.65647149  -3.83379882   0.           0.           0.        ]\n",
      " [-13.29817936   2.73094504   1.51779658   0.           0.           0.        ]\n",
      " [ -2.51052374  -5.23654817  -5.27809072   0.           0.           0.        ]\n",
      " [  4.57690106   2.55068255  -4.35781789   0.           0.           0.        ]\n",
      " [  3.46542151   7.23194126   2.9874647    0.           0.           0.        ]\n",
      " [  2.51334729  -3.30661967  -6.06488465   0.           0.           0.        ]\n",
      " [ -3.7157221    1.20429949   1.19804866   0.           0.           0.        ]\n",
      " [  4.57543946   2.00095891   7.04408499   0.           0.           0.        ]\n",
      " [ -1.92462254   4.1448289   -4.30828586   0.           0.           0.        ]\n",
      " [  3.97255936  -1.28695222   0.3347699    0.           0.           0.        ]\n",
      " [ -4.15180276  -1.79068245   1.94280768   0.           0.           0.        ]\n",
      " [ -6.25528647  -7.88222604   0.42411759   0.           0.           0.        ]\n",
      " [ -2.88949756  -0.11610957   7.7088747    0.           0.           0.        ]\n",
      " [ -2.71740652  -1.81582349   1.28940113   0.           0.           0.        ]\n",
      " [  4.31298322   0.88836781  -4.5930277    0.           0.           0.        ]\n",
      " [ -5.72343945   1.04711734   4.39830477   0.           0.           0.        ]\n",
      " [ -8.38392843   0.63737412  -2.73739949   0.           0.           0.        ]\n",
      " [-12.2342797   -2.75532013  -0.92599516   0.           0.           0.        ]]\n",
      "f_ext_batch:\n",
      "[[0. 0. 0. 0. 0. 0.]]\n"
     ]
    }
   ],
   "source": [
    "import os\n",
    "import sys\n",
    "sys.path.append('./src')\n",
    "sys.path.append('../../') # to get bindings\n",
    "#sys.path.append('./dependencies/indy-ros2/indy_description/urdf_files')\n",
    "\n",
    "from utils import *\n",
    "#from gato_mpc import *\n",
    "from gato_mpc_batch_sample import *\n",
    "import pinocchio as pin\n",
    "from pinocchio.visualize import MeshcatVisualizer\n",
    "import meshcat.geometry as g\n",
    "import meshcat.transformations as tf\n",
    "import numpy as np\n",
    "np.set_printoptions(linewidth=99999999)\n",
    "\n",
    "# Load robot model\n",
    "model_dir = \"description/\"\n",
    "urdf_path = model_dir + \"indy7.urdf\"\n",
    "model, visual_model, collision_model = load_robot_model(urdf_path, model_dir)\n",
    "\n",
    "# Create MPC solver and optimizer\n",
    "#controller = MPC_GATO(model, N=32, dt=0.01)\n",
    "f_ext = np.array([10.0, 0.0, 0.0, 0.0, 0.0, 0.0])\n",
    "controller_sample = MPC_GATO_Batch_Sample(model, N=32, dt=0.01, batch_size=64, \n",
    "                                   constant_f_ext=f_ext, resample_f_ext=True, \n",
    "                                   f_ext_std=5, f_ext_resample_std=0.2)\n",
    "\n",
    "controller = MPC_GATO_Batch_Sample(model, N=32, dt=0.01, batch_size=1, \n",
    "                                   constant_f_ext=f_ext, resample_f_ext=False, \n",
    "                                   f_ext_std=0.0, f_ext_resample_std=0.0)\n",
    "\n"
   ]
  },
  {
   "cell_type": "code",
   "execution_count": 2,
   "metadata": {},
   "outputs": [],
   "source": [
    "# initial state\n",
    "#xstart = np.zeros(controller.nx)\n",
    "xstart = np.hstack((np.zeros(controller.nq), np.zeros(controller.nv)))\n",
    "\n",
    "# goal ee positions\n",
    "endpoints = np.array([\n",
    "    np.array(controller.eepos(np.array([0.34848965, 0.3, 0.84213701, 0.0, 0.0, 0.0]))),\n",
    "    # np.array(controller.eepos(1.6*np.ones(controller.nq))),\n",
    "    # np.array(controller.eepos(0.5*np.ones(controller.nq))),\n",
    "    # #np.array(controller.eepos(np.zeros(controller.nq))),\n",
    "    # np.array(controller.eepos(0.2*np.ones(controller.nq))),\n",
    "    # #np.array(controller.eepos(np.zeros(controller.nq))), \n",
    "    # #np.array(controller.eepos(np.array([-3.0, 1.0, 1.0, 1.0, 0.0, 0.0]))),\n",
    "    # np.array(controller.eepos(-0.5*np.ones(controller.nq))),\n",
    "    # #np.array(controller.eepos(np.zeros(controller.nq))),\n",
    "    # np.array(controller.eepos(-0.9*np.ones(controller.nq))),\n",
    "    # #np.array(controller.eepos(np.zeros(controller.nq))),\n",
    "    # np.array(controller.eepos(0.5*np.ones(controller.nq))),\n",
    "    # np.array(controller.eepos(np.array([0.5, 1.5, 2.0, 0.0, 0.0, 0.0]))),\n",
    "    \n",
    "])\n"
   ]
  },
  {
   "cell_type": "code",
   "execution_count": 3,
   "metadata": {},
   "outputs": [
    {
     "name": "stdout",
     "output_type": "stream",
     "text": [
      "Running MPC with 2000 steps, sim_dt: 0.005\n",
      "Endpoints:\n",
      "[[-0.50411789 -0.3815826   0.94470905]]\n",
      "t:    0.000, goal dist:  0.62964, best_id: 41\n",
      "t:    0.050, goal dist:  0.63425, best_id: 2\n",
      "t:    0.100, goal dist:  0.64394, best_id: 27\n",
      "t:    0.200, goal dist:  0.67451, best_id: 48\n",
      "t:    0.350, goal dist:  0.75213, best_id: 42\n",
      "t:    0.400, goal dist:  0.78758, best_id: 19\n",
      "t:    0.550, goal dist:  0.93046, best_id: 3\n",
      "t:    0.700, goal dist:  1.14123, best_id: 42\n",
      "t:    0.800, goal dist:  1.30722, best_id: 39\n",
      "t:    0.950, goal dist:  1.08497, best_id: 26\n",
      "t:    1.100, goal dist:  0.53145, best_id: 9\n",
      "t:    1.150, goal dist:  0.38553, best_id: 57\n",
      "Reached final goal 0\n"
     ]
    }
   ],
   "source": [
    "\n",
    "# Run MPC\n",
    "q_trajectory_sample, mpc_stats_sample = controller_sample.run_mpc(xstart, endpoints, 0.005, 10)"
   ]
  },
  {
   "cell_type": "code",
   "execution_count": 4,
   "metadata": {},
   "outputs": [
    {
     "name": "stdout",
     "output_type": "stream",
     "text": [
      "Running MPC with 400 steps, sim_dt: 0.005\n",
      "Endpoints:\n",
      "[[-0.50411789 -0.3815826   0.94470905]]\n",
      "t:    0.000, goal dist:  0.62964, best_id: 0\n",
      "t:    0.050, goal dist:  0.63423, best_id: 0\n",
      "t:    0.100, goal dist:  0.64403, best_id: 0\n",
      "t:    0.200, goal dist:  0.67478, best_id: 0\n",
      "t:    0.350, goal dist:  0.74572, best_id: 0\n",
      "t:    0.400, goal dist:  0.77785, best_id: 0\n",
      "t:    0.550, goal dist:  0.91004, best_id: 0\n",
      "t:    0.700, goal dist:  1.10598, best_id: 0\n",
      "t:    0.800, goal dist:  1.24976, best_id: 0\n",
      "t:    0.950, goal dist:  1.00760, best_id: 0\n",
      "t:    1.100, goal dist:  0.53827, best_id: 0\n",
      "t:    1.150, goal dist:  0.41978, best_id: 0\n",
      "t:    1.350, goal dist:  0.14907, best_id: 0\n",
      "t:    1.400, goal dist:  0.12219, best_id: 0\n",
      "t:    1.600, goal dist:  0.10262, best_id: 0\n",
      "t:    1.650, goal dist:  0.10344, best_id: 0\n",
      "Reached final goal 0\n"
     ]
    }
   ],
   "source": [
    "\n",
    "# Run MPC\n",
    "q_trajectory, mpc_stats = controller.run_mpc(xstart, endpoints, 0.005, 2)"
   ]
  },
  {
   "cell_type": "code",
   "execution_count": null,
   "metadata": {},
   "outputs": [],
   "source": [
    "for key in mpc_stats:\n",
    "    print(key)\n",
    "    print(mpc_stats[key])"
   ]
  },
  {
   "cell_type": "code",
   "execution_count": null,
   "metadata": {},
   "outputs": [],
   "source": [
    "stats = controller.solver.get_stats()\n",
    "for key in stats:\n",
    "    print(key)\n",
    "    print(stats[key])"
   ]
  },
  {
   "cell_type": "code",
   "execution_count": 5,
   "metadata": {},
   "outputs": [
    {
     "data": {
      "image/png": "[encoded data removed]",
      "text/plain": [
       "<Figure size 640x480 with 1 Axes>"
      ]
     },
     "metadata": {},
     "output_type": "display_data"
    }
   ],
   "source": [
    "import matplotlib.pyplot as plt\n",
    "\n",
    "# plot position error of mpc_stats_sample vs mpc_stats on same axis\n",
    "fig, ax = plt.subplots()\n",
    "ax.plot(mpc_stats_sample['goal_distances'], label='mpc_stats_sample')\n",
    "ax.plot(mpc_stats['goal_distances'], label='mpc_stats')\n",
    "ax.set_xlabel('Iteration')\n",
    "ax.set_ylabel('Goal Distance')\n",
    "ax.legend()\n",
    "ax.grid(True)\n",
    "plt.show()\n",
    "\n"
   ]
  },
  {
   "cell_type": "code",
   "execution_count": null,
   "metadata": {},
   "outputs": [],
   "source": [
    "stats = controller.solver.get_stats()\n",
    "\n",
    "import matplotlib.pyplot as plt\n",
    "\n",
    "fig, axs = plt.subplots(len(stats), 1, figsize=(5, 2*len(stats)))\n",
    "if len(stats) == 1:\n",
    "    axs = [axs]\n",
    "\n",
    "for i, (key, data) in enumerate(stats.items()):\n",
    "    ax = axs[i]\n",
    "    if isinstance(data, dict) and 'values' in data:\n",
    "        values = data['values']\n",
    "        ax.plot(values, label=key)\n",
    "        ax.set_title(f'{key} over iterations')\n",
    "        if key == 'solve_time':\n",
    "            ax.axhline(np.mean(values), color='r', linestyle='--', label=f'mean: {np.mean(values):.3f}')\n",
    "            ax.text(0.02, 0.98, f'max: {np.max(values):.3f}\\nmin: {np.min(values):.3f}', \n",
    "                   transform=ax.transAxes, verticalalignment='top')\n",
    "    else:\n",
    "        ax.plot(data, label=key)\n",
    "        ax.set_title(f'{key} over iterations')\n",
    "    ax.grid(True)\n",
    "    ax.legend()\n",
    "\n",
    "plt.tight_layout()\n",
    "plt.show()\n",
    "    "
   ]
  },
  {
   "cell_type": "code",
   "execution_count": 7,
   "metadata": {},
   "outputs": [
    {
     "name": "stdout",
     "output_type": "stream",
     "text": [
      "You can open the visualizer by visiting the following URL:\n",
      "http://127.0.0.1:7019/static/\n"
     ]
    },
    {
     "ename": "KeyboardInterrupt",
     "evalue": "",
     "output_type": "error",
     "traceback": [
      "\u001b[0;31m---------------------------------------------------------------------------\u001b[0m",
      "\u001b[0;31mKeyboardInterrupt\u001b[0m                         Traceback (most recent call last)",
      "Cell \u001b[0;32mIn[7], line 16\u001b[0m\n\u001b[1;32m     13\u001b[0m \u001b[38;5;66;03m#print_stats(controller.solver.get_stats())\u001b[39;00m\n\u001b[1;32m     14\u001b[0m \u001b[38;5;28;01mwhile\u001b[39;00m \u001b[38;5;241m1\u001b[39m:\n\u001b[1;32m     15\u001b[0m     \u001b[38;5;66;03m#viz.play(q_trajectory=q_trajectory_sample, dt=0.01)\u001b[39;00m\n\u001b[0;32m---> 16\u001b[0m     \u001b[43mviz\u001b[49m\u001b[38;5;241;43m.\u001b[39;49m\u001b[43mplay\u001b[49m\u001b[43m(\u001b[49m\u001b[43mq_trajectory\u001b[49m\u001b[38;5;241;43m=\u001b[39;49m\u001b[43mq_trajectory\u001b[49m\u001b[43m,\u001b[49m\u001b[43m \u001b[49m\u001b[43mdt\u001b[49m\u001b[38;5;241;43m=\u001b[39;49m\u001b[38;5;241;43m0.01\u001b[39;49m\u001b[43m)\u001b[49m\n",
      "File \u001b[0;32m~/alex/GATO/examples/indy7-mpc/.venv/lib/python3.10/site-packages/cmeel.prefix/lib/python3.10/site-packages/pinocchio/visualize/base_visualizer.py:180\u001b[0m, in \u001b[0;36mBaseVisualizer.play\u001b[0;34m(self, q_trajectory, dt, callback, capture, **kwargs)\u001b[0m\n\u001b[1;32m    178\u001b[0m     elapsed_time \u001b[38;5;241m=\u001b[39m t1 \u001b[38;5;241m-\u001b[39m t0\n\u001b[1;32m    179\u001b[0m     \u001b[38;5;28;01mif\u001b[39;00m dt \u001b[38;5;129;01mis\u001b[39;00m \u001b[38;5;129;01mnot\u001b[39;00m \u001b[38;5;28;01mNone\u001b[39;00m \u001b[38;5;129;01mand\u001b[39;00m elapsed_time \u001b[38;5;241m<\u001b[39m dt:\n\u001b[0;32m--> 180\u001b[0m         \u001b[38;5;28;43mself\u001b[39;49m\u001b[38;5;241;43m.\u001b[39;49m\u001b[43msleep\u001b[49m\u001b[43m(\u001b[49m\u001b[43mdt\u001b[49m\u001b[43m \u001b[49m\u001b[38;5;241;43m-\u001b[39;49m\u001b[43m \u001b[49m\u001b[43melapsed_time\u001b[49m\u001b[43m)\u001b[49m\n\u001b[1;32m    181\u001b[0m \u001b[38;5;28;01mif\u001b[39;00m capture \u001b[38;5;129;01mand\u001b[39;00m \u001b[38;5;129;01mnot\u001b[39;00m \u001b[38;5;28mself\u001b[39m\u001b[38;5;241m.\u001b[39mhas_video_writer():\n\u001b[1;32m    182\u001b[0m     \u001b[38;5;28;01mreturn\u001b[39;00m imgs\n",
      "File \u001b[0;32m~/alex/GATO/examples/indy7-mpc/.venv/lib/python3.10/site-packages/cmeel.prefix/lib/python3.10/site-packages/pinocchio/visualize/base_visualizer.py:151\u001b[0m, in \u001b[0;36mBaseVisualizer.sleep\u001b[0;34m(self, dt)\u001b[0m\n\u001b[1;32m    150\u001b[0m \u001b[38;5;28;01mdef\u001b[39;00m\u001b[38;5;250m \u001b[39m\u001b[38;5;21msleep\u001b[39m(\u001b[38;5;28mself\u001b[39m, dt):\n\u001b[0;32m--> 151\u001b[0m     \u001b[43mtime\u001b[49m\u001b[38;5;241;43m.\u001b[39;49m\u001b[43msleep\u001b[49m\u001b[43m(\u001b[49m\u001b[43mdt\u001b[49m\u001b[43m)\u001b[49m\n",
      "\u001b[0;31mKeyboardInterrupt\u001b[0m: "
     ]
    }
   ],
   "source": [
    "# Setup pinocchio visualizer\n",
    "viz = MeshcatVisualizer(model, collision_model, visual_model)\n",
    "viz.initViewer()\n",
    "viz.loadViewerModel()\n",
    "# Visualize goals\n",
    "for i, p in enumerate(endpoints):\n",
    "    viz.viewer[f'point{i}'].set_object(\n",
    "        g.Sphere(0.06), \n",
    "        g.MeshLambertMaterial(color=0xff0000))\n",
    "\n",
    "    T = tf.translation_matrix(np.array(p[:]))\n",
    "    viz.viewer[f'point{i}'].set_transform(T)\n",
    "#print_stats(controller.solver.get_stats())\n",
    "while 1:\n",
    "    #viz.play(q_trajectory=q_trajectory_sample, dt=0.01)\n",
    "    viz.play(q_trajectory=q_trajectory, dt=0.01)"
   ]
  },
  {
   "cell_type": "markdown",
   "metadata": {},
   "source": []
  },
  {
   "cell_type": "code",
   "execution_count": null,
   "metadata": {},
   "outputs": [],
   "source": [
    "import pickle\n",
    "\n",
    "print(q_trajectory)\n",
    "\n",
    "# save trajectory to file\n",
    "with open('q_trajectory.pkl', 'wb') as f:\n",
    "    pickle.dump(q_trajectory, f)"
   ]
  },
  {
   "cell_type": "code",
   "execution_count": 3,
   "metadata": {},
   "outputs": [
    {
     "name": "stdout",
     "output_type": "stream",
     "text": [
      "[[0.34848965 0.3        0.84213701 0.         0.         0.         0.35093436 0.3        0.8368105  0.         0.         0.         0.35332343 0.3        0.8312704  0.         0.         0.         0.35565649 0.3        0.82552023 0.         0.         0.         0.35793316 0.3        0.81956363 0.         0.         0.         0.36015308 0.3        0.81340437 0.         0.         0.         0.3623159  0.3        0.80704637 0.         0.         0.         0.36442128 0.3        0.80049365 0.         0.         0.         0.36646888 0.3        0.79375037 0.         0.         0.         0.36845837 0.3        0.78682081 0.         0.         0.         0.37038945 0.3        0.77970936 0.         0.         0.         0.37226181 0.3        0.77242053 0.         0.         0.         0.37407515 0.3        0.76495894 0.         0.         0.         0.37582917 0.3        0.75732933 0.         0.         0.         0.37752362 0.3        0.74953653 0.         0.         0.         0.37915821 0.3        0.74158549 0.         0.         0.         0.38073268 0.3        0.73348124 0.         0.         0.         0.38224679 0.3        0.72522893 0.         0.         0.         0.3837003  0.3        0.71683379 0.         0.         0.         0.38509297 0.3        0.70830114 0.         0.         0.         0.38642459 0.3        0.6996364  0.         0.         0.         0.38769495 0.3        0.69084506 0.         0.         0.         0.38890383 0.3        0.68193269 0.         0.         0.         0.39005106 0.3        0.67290495 0.         0.         0.         0.39113645 0.3        0.66376756 0.         0.         0.         0.39215982 0.3        0.65452632 0.         0.         0.         0.39312102 0.3        0.64518708 0.         0.         0.         0.39401989 0.3        0.63575577 0.         0.         0.         0.3948563  0.3        0.62623837 0.         0.         0.         0.39563009 0.3        0.61664092 0.         0.         0.         0.39634117 0.3        0.6069695  0.         0.         0.         0.39698941 0.3        0.59723024 0.         0.         0.        ]]\n"
     ]
    }
   ],
   "source": [
    "ee_pos = np.load('eepos_g_batch.npy')\n",
    "print(ee_pos)"
   ]
  },
  {
   "cell_type": "code",
   "execution_count": null,
   "metadata": {},
   "outputs": [],
   "source": []
  }
 ],
 "metadata": {
  "kernelspec": {
   "display_name": ".venv",
   "language": "python",
   "name": "python3"
  },
  "language_info": {
   "codemirror_mode": {
    "name": "ipython",
    "version": 3
   },
   "file_extension": ".py",
   "mimetype": "text/x-python",
   "name": "python",
   "nbconvert_exporter": "python",
   "pygments_lexer": "ipython3",
   "version": "3.10.12"
  }
 },
 "nbformat": 4,
 "nbformat_minor": 2
}
