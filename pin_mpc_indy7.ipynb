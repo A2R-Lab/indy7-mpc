{
 "cells": [
  {
   "cell_type": "code",
   "execution_count": null,
   "metadata": {},
   "outputs": [],
   "source": [
    "import sys\n",
    "sys.path.append('./src')\n",
    "\n",
    "from utils import *\n",
    "from osqp_solver import *\n",
    "from osqp_sqp import *\n",
    "from osqp_mpc import *\n",
    "import pinocchio as pin\n",
    "from pinocchio.visualize import MeshcatVisualizer\n",
    "import meshcat.geometry as g\n",
    "import meshcat.transformations as tf\n",
    "import numpy as np\n",
    "np.set_printoptions(linewidth=99999999)\n",
    "    \n",
    "# Load robot model\n",
    "urdf_filename = \"dependencies/indy-ros2/indy_description/urdf_files/indy7.urdf\"\n",
    "model, visual_model, collision_model = load_robot_model(urdf_filename)\n",
    "\n",
    "# Setup pinocchio visualizer\n",
    "viz = MeshcatVisualizer(model, collision_model, visual_model)\n",
    "viz.initViewer()\n",
    "viz.loadViewerModel()\n",
    "\n",
    "# Create MPC solver and optimizer\n",
    "solver = OSQPSolver(model)\n",
    "sqp = SQP_OSQP(solver)\n",
    "controller = MPC_OSQP(model, sqp, solver)\n"
   ]
  },
  {
   "cell_type": "code",
   "execution_count": null,
   "metadata": {},
   "outputs": [],
   "source": [
    "# initial state - zeros\n",
    "xstart = np.ones(solver.nx)\n",
    "\n",
    "# goal ee positions\n",
    "endpoints = np.array([\n",
    "    np.array(solver.eepos(np.zeros(6))), \n",
    "#    np.array(solver.eepos(-0.8 * np.ones(nq)))\n",
    "])\n",
    "print(\"Endpoints:\")\n",
    "print(endpoints)\n",
    "\n",
    "# Visualize goals\n",
    "for i, p in enumerate(endpoints):\n",
    "    viz.viewer[f'point{i}'].set_object(\n",
    "        g.Sphere(0.05), \n",
    "        g.MeshLambertMaterial(color=0xff0000))\n",
    "\n",
    "    T = tf.translation_matrix(np.array(p[:]))\n",
    "    viz.viewer[f'point{i}'].set_transform(T)"
   ]
  },
  {
   "cell_type": "code",
   "execution_count": null,
   "metadata": {},
   "outputs": [],
   "source": [
    "# Run MPC\n",
    "q_trajectory = controller.run_mpc(xstart, endpoints)"
   ]
  },
  {
   "cell_type": "code",
   "execution_count": null,
   "metadata": {},
   "outputs": [],
   "source": [
    "print_stats(sqp.get_stats())\n",
    "viz.play(q_trajectory=q_trajectory, dt=0.01)"
   ]
  }
 ],
 "metadata": {
  "kernelspec": {
   "display_name": ".venv",
   "language": "python",
   "name": "python3"
  },
  "language_info": {
   "codemirror_mode": {
    "name": "ipython",
    "version": 3
   },
   "file_extension": ".py",
   "mimetype": "text/x-python",
   "name": "python",
   "nbconvert_exporter": "python",
   "pygments_lexer": "ipython3",
   "version": "3.10.12"
  }
 },
 "nbformat": 4,
 "nbformat_minor": 2
}
